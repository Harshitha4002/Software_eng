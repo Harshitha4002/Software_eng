{
  "nbformat": 4,
  "nbformat_minor": 0,
  "metadata": {
    "colab": {
      "provenance": []
    },
    "kernelspec": {
      "name": "python3",
      "display_name": "Python 3"
    },
    "language_info": {
      "name": "python"
    }
  },
  "cells": [
    {
      "cell_type": "code",
      "source": [
        "# Hardcoded variables\n",
        "num=5\n",
        "num1=10\n",
        "mul=num*num1\n",
        "print(mul)\n"
      ],
      "metadata": {
        "colab": {
          "base_uri": "https://localhost:8080/"
        },
        "id": "-tZsJyjfpPen",
        "outputId": "8ab185c5-3368-4ebe-b5d8-4fc3cde3b5e0"
      },
      "execution_count": 4,
      "outputs": [
        {
          "output_type": "stream",
          "name": "stdout",
          "text": [
            "Name: John\n",
            "Age: 30\n"
          ]
        }
      ]
    },
    {
      "cell_type": "code",
      "source": [
        "#Taking user input\n",
        "def factorial(num):\n",
        "    if num == 0 or num == 1:\n",
        "        return 1\n",
        "    else:\n",
        "        return num * factorial(num - 1)\n",
        "\n",
        "# Example usage\n",
        "num=int(input(\"Enter your number\"))\n",
        "print(f\"The factorial of {num} is {factorial(num)}\")\n"
      ],
      "metadata": {
        "colab": {
          "base_uri": "https://localhost:8080/"
        },
        "id": "oXDU0wyAspoY",
        "outputId": "5dca53e4-f73d-4c53-935c-a1cdc4b2a45c"
      },
      "execution_count": 6,
      "outputs": [
        {
          "output_type": "stream",
          "name": "stdout",
          "text": [
            "Enter your number5\n",
            "The factorial of 5 is 120\n"
          ]
        }
      ]
    },
    {
      "cell_type": "code",
      "source": [
        "#Read single input from a file\n",
        "# Read the number from the file\n",
        "with open('num.txt', 'r') as file:\n",
        "    num = int(file.readline().strip())\n",
        "\n",
        "# Calculate the square of the number\n",
        "square = num ** 2\n",
        "\n",
        "# Print the result\n",
        "print(f\"The square of {num} is {square}\")\n"
      ],
      "metadata": {
        "colab": {
          "base_uri": "https://localhost:8080/"
        },
        "id": "860obN1rwA2_",
        "outputId": "23ea276c-f5e0-41ca-c574-448cc9ad3551"
      },
      "execution_count": 16,
      "outputs": [
        {
          "output_type": "stream",
          "name": "stdout",
          "text": [
            "The square of 5 is 25\n"
          ]
        }
      ]
    },
    {
      "source": [
        "# Open the file in read mode\n",
        "with open('people.txt', 'r') as file:\n",
        "    # Read all lines in the file\n",
        "    lines = file.readlines()\n",
        "\n",
        "# Process each line and filter those with age > 20\n",
        "for line in lines:\n",
        "    # Check if the line has enough commas before splitting\n",
        "    if line.count(',') >= 2:  # Only process lines with at least 2 commas\n",
        "        # Split the line into name, age, and profession\n",
        "        name, age, profession = line.strip().split(',')\n",
        "\n",
        "        # Convert the age to an integer for comparison\n",
        "        age = int(age)\n",
        "\n",
        "        # Print the person if age is greater than 20\n",
        "        if age > 20:\n",
        "            print(f\"{name}, {age}, {profession}\")\n",
        "    else:\n",
        "        print(f\"Skipping invalid line: {line.strip()}\") # Print a message or handle it differently"
      ],
      "cell_type": "code",
      "metadata": {
        "colab": {
          "base_uri": "https://localhost:8080/"
        },
        "id": "_3YuOeSyyHCj",
        "outputId": "5b61f71f-47f5-4a84-86ed-cec18efe78d1"
      },
      "execution_count": 18,
      "outputs": [
        {
          "output_type": "stream",
          "name": "stdout",
          "text": [
            "Skipping invalid line: Content of the file:\n",
            "John, 25, Engineer\n",
            "Alice, 30, Doctor\n",
            "Bob, 22, Designer\n",
            "Eve, 28, Teacher\n"
          ]
        }
      ]
    },
    {
      "cell_type": "code",
      "source": [],
      "metadata": {
        "id": "fqaPgvFSu_Sn"
      },
      "execution_count": null,
      "outputs": []
    }
  ]
}